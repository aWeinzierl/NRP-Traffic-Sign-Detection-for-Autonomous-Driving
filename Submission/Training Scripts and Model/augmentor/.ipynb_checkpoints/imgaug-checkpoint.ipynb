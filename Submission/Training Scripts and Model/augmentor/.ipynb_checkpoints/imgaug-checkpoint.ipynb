{
 "cells": [
  {
   "cell_type": "code",
   "execution_count": 1,
   "metadata": {
    "collapsed": false
   },
   "outputs": [
    {
     "ename": "ImportError",
     "evalue": "No module named 'dicttoxml'",
     "output_type": "error",
     "traceback": [
      "\u001b[0;31m---------------------------------------------------------------------------\u001b[0m",
      "\u001b[0;31mImportError\u001b[0m                               Traceback (most recent call last)",
      "\u001b[0;32m<ipython-input-1-171f3ad7479f>\u001b[0m in \u001b[0;36m<module>\u001b[0;34m()\u001b[0m\n\u001b[1;32m      8\u001b[0m \u001b[1;32mimport\u001b[0m \u001b[0mos\u001b[0m\u001b[1;33m\u001b[0m\u001b[0m\n\u001b[1;32m      9\u001b[0m \u001b[1;32mimport\u001b[0m \u001b[0mrandom\u001b[0m\u001b[1;33m\u001b[0m\u001b[0m\n\u001b[0;32m---> 10\u001b[0;31m \u001b[1;32mfrom\u001b[0m \u001b[0mdicttoxml\u001b[0m \u001b[1;32mimport\u001b[0m \u001b[0mdicttoxml\u001b[0m\u001b[1;33m\u001b[0m\u001b[0m\n\u001b[0m\u001b[1;32m     11\u001b[0m \u001b[1;33m\u001b[0m\u001b[0m\n\u001b[1;32m     12\u001b[0m \u001b[1;32mimport\u001b[0m \u001b[0mipywidgets\u001b[0m \u001b[1;32mas\u001b[0m \u001b[0mwidgets\u001b[0m\u001b[1;33m\u001b[0m\u001b[0m\n",
      "\u001b[0;31mImportError\u001b[0m: No module named 'dicttoxml'"
     ]
    }
   ],
   "source": [
    "import numpy as np\n",
    "from PIL import Image\n",
    "import PIL\n",
    "from matplotlib import pyplot as plt\n",
    "import math\n",
    "\n",
    "from glob import glob\n",
    "import os\n",
    "import random\n",
    "from dicttoxml import dicttoxml\n",
    "\n",
    "import ipywidgets as widgets\n",
    "from IPython.display import display\n",
    "\n",
    "# http://blog.mmast.net/python-image-processing-libraries-performance-opencv-scipy-scikit-image"
   ]
  },
  {
   "cell_type": "code",
   "execution_count": 4,
   "metadata": {
    "collapsed": true
   },
   "outputs": [],
   "source": [
    "%matplotlib inline"
   ]
  },
  {
   "cell_type": "code",
   "execution_count": 5,
   "metadata": {
    "collapsed": true
   },
   "outputs": [],
   "source": [
    "def open_image(path):\n",
    "    img = Image.open(path)\n",
    "    img = img.convert('RGB')\n",
    "    return img"
   ]
  },
  {
   "cell_type": "code",
   "execution_count": 6,
   "metadata": {
    "collapsed": true
   },
   "outputs": [],
   "source": [
    "object_names = [\"4016931020532\", \"4016931020563\"]"
   ]
  },
  {
   "cell_type": "code",
   "execution_count": 8,
   "metadata": {
    "collapsed": true
   },
   "outputs": [],
   "source": [
    "images_path = \"./to_augment\"\n",
    "images_list = glob(os.path.join(images_path, '*'))\n",
    "images_to_augment = list(map(open_image, images_list))"
   ]
  },
  {
   "cell_type": "code",
   "execution_count": 11,
   "metadata": {
    "collapsed": true
   },
   "outputs": [],
   "source": [
    "import numpy\n",
    "from functools import reduce\n",
    "def rand_perspective(im, coeff):\n",
    "    img = im.convert('RGBA')\n",
    "\n",
    "    def find_coeffs(pa, pb):\n",
    "        matrix = []\n",
    "        for p1, p2 in zip(pa, pb):\n",
    "            matrix.append(\n",
    "                [p1[0], p1[1], 1, 0, 0, 0, -p2[0] * p1[0], -p2[0] * p1[1]])\n",
    "            matrix.append(\n",
    "                [0, 0, 0, p1[0], p1[1], 1, -p2[1] * p1[0], -p2[1] * p1[1]])\n",
    "\n",
    "        A = numpy.matrix(matrix, dtype=numpy.float)\n",
    "        B = numpy.array(pb).reshape(8)\n",
    "\n",
    "        res = numpy.dot(numpy.linalg.inv(A.T * A) * A.T, B)\n",
    "        return numpy.array(res).reshape(8)\n",
    "\n",
    "    def tuple_diff(left, right):\n",
    "        result = []\n",
    "        for l, r in zip(left, right):\n",
    "            result.append(l - r)\n",
    "        return tuple(result)\n",
    "\n",
    "    dx = int(coeff * img.width)\n",
    "    dy = int(coeff * img.height)\n",
    "\n",
    "    fromm = [(0, 0), (img.width, 0), (img.width, img.height), (0, img.height)]\n",
    "    to = []\n",
    "\n",
    "    for point in fromm:\n",
    "        x = random.randint(-dx, dx) + point[0]\n",
    "        y = random.randint(-dy, dy) + point[1]\n",
    "        to.append((x, y))\n",
    "\n",
    "    minn = (reduce(min, map(lambda x: x[0], to)),\n",
    "            reduce(min, map(lambda y: y[1], to)))\n",
    "    maxx = (reduce(max, map(lambda x: x[0], to)),\n",
    "            reduce(max, map(lambda y: y[1], to)))\n",
    "\n",
    "    new_size = tuple_diff(maxx, minn)\n",
    "\n",
    "    to = tuple([tuple_diff(x, minn) for x in to])\n",
    "\n",
    "    coeffs = find_coeffs(to, fromm)\n",
    "    img = img.transform(new_size, Image.PERSPECTIVE, coeffs, Image.BICUBIC)\n",
    "    return img"
   ]
  },
  {
   "cell_type": "code",
   "execution_count": 12,
   "metadata": {
    "collapsed": true
   },
   "outputs": [],
   "source": [
    "img = images_to_augment[0]"
   ]
  },
  {
   "cell_type": "code",
   "execution_count": 15,
   "metadata": {
    "collapsed": false
   },
   "outputs": [
    {
     "data": {
      "application/vnd.jupyter.widget-view+json": {
       "model_id": "d900c1f62879472f8960ac311d1ea305",
       "version_major": 2,
       "version_minor": 0
      },
      "text/plain": [
       "FloatSlider(value=0.5, continuous_update=False, description='Perspective coeff:', max=1.0, step=0.02)"
      ]
     },
     "metadata": {},
     "output_type": "display_data"
    },
    {
     "data": {
      "image/png": "[encoded data removed]",
      "text/plain": [
       "<Figure size 432x288 with 1 Axes>"
      ]
     },
     "metadata": {
      "needs_background": "light"
     },
     "output_type": "display_data"
    },
    {
     "data": {
      "image/png": "[encoded data removed]",
      "text/plain": [
       "<Figure size 432x288 with 1 Axes>"
      ]
     },
     "metadata": {
      "needs_background": "light"
     },
     "output_type": "display_data"
    },
    {
     "data": {
      "image/png": "[encoded data removed]",
      "text/plain": [
       "<Figure size 432x288 with 1 Axes>"
      ]
     },
     "metadata": {
      "needs_background": "light"
     },
     "output_type": "display_data"
    },
    {
     "data": {
      "image/png": "[encoded data removed]",
      "text/plain": [
       "<Figure size 432x288 with 1 Axes>"
      ]
     },
     "metadata": {
      "needs_background": "light"
     },
     "output_type": "display_data"
    }
   ],
   "source": [
    "def perspective_changed(change):\n",
    "    zz = rand_perspective(img, change.new)\n",
    "    plt.imshow(zz)\n",
    "w_perspective = widgets.FloatSlider(\n",
    "    value=0.5,\n",
    "    min=0,\n",
    "    max=1.0,\n",
    "    step=0.02,\n",
    "    description='Perspective coeff:',\n",
    "    disabled=False,\n",
    "    continuous_update=False,\n",
    "    orientation='horizontal',\n",
    "    readout=True,\n",
    "    readout_format='.2f',\n",
    ")\n",
    "w_perspective.observe(perspective_changed, names='value')\n",
    "\n",
    "display(w_perspective)"
   ]
  },
  {
   "cell_type": "code",
   "execution_count": 17,
   "metadata": {
    "collapsed": false
   },
   "outputs": [
    {
     "data": {
      "application/vnd.jupyter.widget-view+json": {
       "model_id": "8bf12a95ecc9468c91f82f32b4c6bea4",
       "version_major": 2,
       "version_minor": 0
      },
      "text/plain": [
       "FloatSlider(value=0.5, continuous_update=False, description='Brightness:', max=1.0, step=0.05)"
      ]
     },
     "metadata": {},
     "output_type": "display_data"
    }
   ],
   "source": [
    "from PIL import ImageEnhance\n",
    "\n",
    "brightness_enchancer = ImageEnhance.Brightness(img)\n",
    "\n",
    "def brightness_changed(change):\n",
    "    zz = brightness_enchancer.enhance(change.new)\n",
    "    plt.imshow(zz)\n",
    "\n",
    "w = widgets.FloatSlider(\n",
    "    value=0.5,\n",
    "    min=0,\n",
    "    max=1.0,\n",
    "    step=0.05,\n",
    "    description='Brightness:',\n",
    "    disabled=False,\n",
    "    continuous_update=False,\n",
    "    orientation='horizontal',\n",
    "    readout=True,\n",
    "    readout_format='.2f',\n",
    ")\n",
    "w.observe(brightness_changed, names='value')\n",
    "\n",
    "display(w)"
   ]
  },
  {
   "cell_type": "code",
   "execution_count": 99,
   "metadata": {
    "collapsed": true
   },
   "outputs": [],
   "source": [
    "images_to_augment = list(map(lambda x: np.array(x, dtype=np.uint8), images_to_augment))"
   ]
  },
  {
   "cell_type": "code",
   "execution_count": 100,
   "metadata": {
    "collapsed": true
   },
   "outputs": [],
   "source": [
    "def grid(images, rows, cols, border=1, border_color=255):\n",
    "    nb_images = len(images)\n",
    "    cell_height = max([image.shape[0] for image in images])\n",
    "    cell_width = max([image.shape[1] for image in images])\n",
    "    channels = set([image.shape[2] for image in images])\n",
    "    assert len(channels) == 1\n",
    "    nb_channels = list(channels)[0]\n",
    "    if rows is None and cols is None:\n",
    "        rows = cols = int(math.ceil(math.sqrt(nb_images)))\n",
    "    elif rows is not None:\n",
    "        cols = int(math.ceil(nb_images / rows))\n",
    "    elif cols is not None:\n",
    "        rows = int(math.ceil(nb_images / cols))\n",
    "    assert rows * cols >= nb_images\n",
    "\n",
    "    cell_height = cell_height + 1 * border\n",
    "    cell_width = cell_width + 1 * border\n",
    "\n",
    "    width = cell_width * cols\n",
    "    height = cell_height * rows\n",
    "    grid = np.zeros((height, width, nb_channels), dtype=np.uint8)\n",
    "    cell_idx = 0\n",
    "    for row_idx in range(rows):\n",
    "        for col_idx in range(cols):\n",
    "            if cell_idx < nb_images:\n",
    "                image = images[cell_idx]\n",
    "                border_top = border_right = border_bottom = border_left = border\n",
    "                #if row_idx > 1:\n",
    "                border_top = 0\n",
    "                #if col_idx > 1:\n",
    "                border_left = 0\n",
    "                image = np.pad(image, ((border_top, border_bottom), (border_left, border_right), (0, 0)), mode=\"constant\", constant_values=border_color)\n",
    "\n",
    "                cell_y1 = cell_height * row_idx\n",
    "                cell_y2 = cell_y1 + image.shape[0]\n",
    "                cell_x1 = cell_width * col_idx\n",
    "                cell_x2 = cell_x1 + image.shape[1]\n",
    "                grid[cell_y1:cell_y2, cell_x1:cell_x2, :] = image\n",
    "            cell_idx += 1\n",
    "\n",
    "    grid = np.pad(grid, ((border, 0), (border, 0), (0, 0)), mode=\"constant\", constant_values=border_color)\n",
    "\n",
    "    return grid"
   ]
  },
  {
   "cell_type": "code",
   "execution_count": 101,
   "metadata": {
    "collapsed": true
   },
   "outputs": [],
   "source": [
    "def save_image(np_image, filename):\n",
    "    image = Image.fromarray(np_image)\n",
    "    image.save(filename + \".png\")"
   ]
  },
  {
   "cell_type": "code",
   "execution_count": 104,
   "metadata": {
    "collapsed": true
   },
   "outputs": [],
   "source": [
    "coco_images_path = \"/home/nfan/Downloads/training/mscoco/train2017/*.jpg\"\n",
    "coco_images_list = glob(coco_images_path)"
   ]
  },
  {
   "cell_type": "code",
   "execution_count": 105,
   "metadata": {
    "collapsed": false
   },
   "outputs": [
    {
     "data": {
      "text/plain": [
       "'/home/nfan/Downloads/training/mscoco/train2017/000000284805.jpg'"
      ]
     },
     "execution_count": 105,
     "metadata": {},
     "output_type": "execute_result"
    }
   ],
   "source": [
    "coco_images_list[5]"
   ]
  },
  {
   "cell_type": "code",
   "execution_count": 106,
   "metadata": {
    "collapsed": true
   },
   "outputs": [],
   "source": [
    "idx = 0\n",
    "for obj_name, img in zip(object_names, images_to_augment):\n",
    "    images_aug = [img] * 5\n",
    "    \n",
    "    for img in images_aug:\n",
    "        forground_img = Image.fromarray(img)\n",
    "        background_img = Image.open(random.choice(coco_images_list))\n",
    "        \n",
    "        brightness_enchancer = ImageEnhance.Brightness(forground_img)\n",
    "        forground_img = brightness_enchancer.enhance(random.uniform(0.65, 1.0))\n",
    "        forground_img = forground_img.convert('RGBA')\n",
    "        \n",
    "        forground_img = rand_perspective(forground_img, 0.1)\n",
    "\n",
    "        # forground_img = forground_img.rotate(int(random.gauss(0, 11)), expand=1)\n",
    "        part = random.uniform(0.2, 0.9)\n",
    "\n",
    "        forground_ratio = forground_img.size[0] / forground_img.size[1]\n",
    "        if background_img.size[0] > background_img.size[1]:\n",
    "            width = background_img.size[0] * part\n",
    "            height = width / forground_ratio\n",
    "\n",
    "            if height > background_img.size[1]:\n",
    "                height = background_img.size[1]\n",
    "                width = height * forground_ratio\n",
    "        else:\n",
    "            height = background_img.size[1] * part\n",
    "            width = height * forground_ratio\n",
    "\n",
    "            if width > background_img.size[0]:\n",
    "                width = background_img.size[0]\n",
    "                height = width / forground_ratio\n",
    "\n",
    "        width = int(width)\n",
    "        height = int(height)\n",
    "        x = random.randint(0, background_img.size[0] - width)\n",
    "        y = random.randint(0, background_img.size[1] - height)\n",
    "\n",
    "        f_img = forground_img.resize((width, height))\n",
    "        background_img.paste(f_img, (x, y), f_img)\n",
    "\n",
    "        name = \"img_{:07}\".format(idx)\n",
    "        background_img.save(\"./images/{}.jpg\".format(name))\n",
    "\n",
    "        annotation = {}\n",
    "        annotation[\"filename\"] = \"{}.jpg\".format(name)\n",
    "        size = {\"width\": background_img.size[0],\n",
    "               \"height\": background_img.size[1],\n",
    "               \"depth\": 3}\n",
    "        annotation[\"size\"] = size\n",
    "        annotation[\"segmented\"] = 0\n",
    "        obj = {\n",
    "            \"name\": obj_name,\n",
    "            \"pose\": \"Unspecified\",\n",
    "            \"truncated\": 0,\n",
    "            \"difficult\": 0,\n",
    "            \"bndbox\": {\n",
    "                \"xmin\": x,\n",
    "                \"ymin\": y,\n",
    "                \"xmax\": x + width,\n",
    "                \"ymax\": y + height\n",
    "            }\n",
    "        }\n",
    "        annotation[\"object\"] = obj\n",
    "        xml = dicttoxml(annotation, custom_root='annotation', attr_type=False)\n",
    "        with open(\"./annotations/{}.xml\".format(name), \"wb\") as f:\n",
    "            f.write(xml)\n",
    "        idx += 1"
   ]
  },
  {
   "cell_type": "code",
   "execution_count": 107,
   "metadata": {
    "collapsed": true
   },
   "outputs": [],
   "source": [
    "# gr = grid(images_aug, cols=8, rows=4)\n",
    "# plt.imshow(gr)\n",
    "# save_image(gr, \"grid\")"
   ]
  },
  {
   "cell_type": "markdown",
   "metadata": {
    "collapsed": true
   },
   "source": [
    "# https://stackoverflow.com/a/14178717\n",
    "def find_coeffs(pa, pb):\n",
    "    matrix = []\n",
    "    for p1, p2 in zip(pa, pb):\n",
    "        matrix.append([p1[0], p1[1], 1, 0, 0, 0, -p2[0]*p1[0], -p2[0]*p1[1]])\n",
    "        matrix.append([0, 0, 0, p1[0], p1[1], 1, -p2[1]*p1[0], -p2[1]*p1[1]])\n",
    "\n",
    "    A = np.matrix(matrix, dtype=numpy.float)\n",
    "    B = np.array(pb).reshape(8)\n",
    "\n",
    "    res = np.dot(np.linalg.inv(A.T * A) * A.T, B)\n",
    "    return np.array(res).reshape(8)"
   ]
  },
  {
   "cell_type": "code",
   "execution_count": null,
   "metadata": {
    "collapsed": true
   },
   "outputs": [],
   "source": []
  }
 ],
 "metadata": {
  "anaconda-cloud": {},
  "kernelspec": {
   "display_name": "Python [default]",
   "language": "python",
   "name": "python3"
  },
  "language_info": {
   "codemirror_mode": {
    "name": "ipython",
    "version": 3
   },
   "file_extension": ".py",
   "mimetype": "text/x-python",
   "name": "python",
   "nbconvert_exporter": "python",
   "pygments_lexer": "ipython3",
   "version": "3.5.2"
  }
 },
 "nbformat": 4,
 "nbformat_minor": 2
}
